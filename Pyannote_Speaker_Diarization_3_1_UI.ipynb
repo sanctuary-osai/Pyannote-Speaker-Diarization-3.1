{
  "nbformat": 4,
  "nbformat_minor": 0,
  "metadata": {
    "colab": {
      "provenance": []
    },
    "kernelspec": {
      "name": "python3",
      "display_name": "Python 3"
    },
    "language_info": {
      "name": "python"
    }
  },
  "cells": [
    {
      "cell_type": "markdown",
      "source": [
        "# **Pyannote Speaker Diarization-3.1 UI**\n",
        "\n",
        "## Detect the Speakers of an Audio\n",
        "\n",
        "**Credits**:\n",
        "- Delik: [huggingface](https://huggingface.co/Delik) [github](https://github.com/D3lik) (making the code)\n",
        "- [Nick088](https://linktr.ee/Nick088) (porting to colab)\n",
        "\n",
        "Join our server to talk about open source ai!\n",
        "\n",
        " [![Discord](https://img.shields.io/discord/1198701940511617164?color=%23738ADB&label=Discord&style=for-the-badge)](https://discord.gg/osai)\n"
      ],
      "metadata": {
        "id": "ZeWk8HQI59tE"
      }
    },
    {
      "cell_type": "code",
      "source": [
        "# @title Install\n",
        "from IPython.display import clear_output\n",
        "!git clone https://huggingface.co/spaces/Delik/pyannote-speaker-diarization-3.1/\n",
        "%cd \"pyannote-speaker-diarization-3.1\"\n",
        "clear_output()\n",
        "print(\"Installed!\")"
      ],
      "metadata": {
        "collapsed": true,
        "cellView": "form",
        "id": "i-ymRBnPmC1a"
      },
      "execution_count": null,
      "outputs": []
    },
    {
      "cell_type": "code",
      "source": [
        "#@title Run UI\n",
        "\n",
        "import codecs\n",
        "import re\n",
        "\n",
        "#@markdown The type of tunnel you wanna use for seeing the public link, so if the API of one of them is down, you can use the other one.\n",
        "Tunnel = \"Gradio\" #@param [\"Gradio\", \"Ngrok\", \"Cloudfare\", \"LocalTunnel\"]\n",
        "\n",
        "#@markdown Also when using Ngrok, Cloudfare or LocalTunnel as the Tunnel, you need to wait for the Local URL to appear, and only after that click on the  Public URL above it.\n",
        "\n",
        "#@markdown Use the option under this only if you chose Ngrok as the Tunnel:\n",
        "\n",
        "#@markdown You can get the Ngrok Tunnel Authtoken here: https://dashboard.ngrok.com/tunnels/authtokens/new.\n",
        "\n",
        "ngrok_tunnel_authtoken = \"\" #@param {type:\"string\"}\n",
        "\n",
        "\n",
        "if Tunnel == \"Gradio\":\n",
        "  file_path_ui = \"/content/pyannote-speaker-diarization-3.1/app.py\"\n",
        "  !sed -i 's/share = False/share=True/g' $file_path_ui\n",
        "elif Tunnel == \"Ngrok\":\n",
        "  !sed -i 's/share=True/share = False/g' $file_path_ui\n",
        "  !pip install pyngrok\n",
        "  from pyngrok import ngrok\n",
        "  ngrok.set_auth_token(ngrok_tunnel_authtoken)\n",
        "  http_tunnel = ngrok.connect(7860, bind_tls=True)\n",
        "  clear_output()\n",
        "  print(\"Ngrok Tunnel Public URL:\", http_tunnel.public_url)\n",
        "elif Tunnel == \"Cloudfare\":\n",
        "  !sed -i 's/share=True/share = False/g' $file_path_ui\n",
        "  # download cloudfare\n",
        "  !curl -LO https://github.com/cloudflare/cloudflared/releases/latest/download/cloudflared-linux-amd64.deb\n",
        "  !dpkg -i cloudflared-linux-amd64.deb\n",
        "  !rm -rf nohup.out\n",
        "  import time\n",
        "  # Run cloudflare\n",
        "  !nohup cloudflared tunnel --url localhost:7860 &\n",
        "  clear_output()\n",
        "  time.sleep(5)\n",
        "  # Find and print the Cloudflare URL with a prefix\n",
        "  cloudflare_url = !grep -oE \"https://[a-zA-Z0-9.-]+\\.trycloudflare\\.com\" nohup.out\n",
        "  print(f\"Cloudfare Tunnel Public URL: {cloudflare_url[0]}\")\n",
        "elif Tunnel == \"LocalTunnel\":\n",
        "  !sed -i 's/share=True/share = False/g' $file_path_ui\n",
        "  # install\n",
        "  !npm install -g localtunnel\n",
        "  import time\n",
        "  import urllib\n",
        "  # run localtunnel\n",
        "  with open('url.txt', 'w') as file:\n",
        "        file.write('')\n",
        "\n",
        "  get_ipython().system_raw('lt --port 7860 >> url.txt 2>&1 &')\n",
        "\n",
        "  time.sleep(4)\n",
        "\n",
        "  endpoint_ip = urllib.request.urlopen('https://ipv4.icanhazip.com').read().decode('utf8').strip(\"\\n\")\n",
        "\n",
        "  with open('url.txt', 'r') as file:\n",
        "      tunnel_url = file.read()\n",
        "      tunnel_url = tunnel_url.replace(\"your url is: \", \"\")\n",
        "\n",
        "  clear_output()\n",
        "  print(f\"LocalTunnel Tunnel Public URL: \\033[0m\\033[93m{tunnel_url}\\033[0m\", end=\"\\033[0m\")\n",
        "\n",
        "  print(f'LocalTunnel Password: {endpoint_ip}')\n",
        "\n",
        "!python app.py"
      ],
      "metadata": {
        "cellView": "form",
        "id": "kI-j0D__H247"
      },
      "execution_count": null,
      "outputs": []
    }
  ]
}