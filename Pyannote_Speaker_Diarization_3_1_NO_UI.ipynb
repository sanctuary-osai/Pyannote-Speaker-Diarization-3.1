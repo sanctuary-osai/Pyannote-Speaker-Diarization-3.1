{
  "nbformat": 4,
  "nbformat_minor": 0,
  "metadata": {
    "colab": {
      "provenance": [],
      "gpuType": "T4"
    },
    "kernelspec": {
      "name": "python3",
      "display_name": "Python 3"
    },
    "language_info": {
      "name": "python"
    },
    "accelerator": "GPU"
  },
  "cells": [
    {
      "cell_type": "markdown",
      "source": [
        "# **Pyannote Speaker Diarization-3.1 NO UI**\n",
        "\n",
        "## Detect the Speakers of an Audio\n",
        "\n",
        "**Credits**:\n",
        "- Delik: [huggingface](https://huggingface.co/Delik) [github](https://github.com/D3lik) (making the code)\n",
        "- [Poopmaster/Poiqazwsx](https://huggingface.co/poiqazwsx) (porting it to colab no ui)\n",
        "- [Nick088](https://linktr.ee/Nick088) (adjusting the colab)\n",
        "\n",
        "Join our server to talk about open source ai!\n",
        "\n",
        " [![Discord](https://img.shields.io/discord/1198701940511617164?color=%23738ADB&label=Discord&style=for-the-badge)](https://discord.gg/osai)\n"
      ],
      "metadata": {
        "id": "ZeWk8HQI59tE"
      }
    },
    {
      "cell_type": "code",
      "source": [
        "# @title Install Requirements\n",
        "from IPython.display import clear_output\n",
        "!pip install pyannote-audio==3.1.1 wavio\n",
        "clear_output()\n",
        "print(\"Installed!\")"
      ],
      "metadata": {
        "collapsed": true,
        "cellView": "form",
        "id": "i-ymRBnPmC1a"
      },
      "execution_count": null,
      "outputs": []
    },
    {
      "cell_type": "code",
      "source": [
        "#@title Upload Audio File\n",
        "\n",
        "#@markdown NOTE: **This won't work for NON Google Chrome Users, if you are one of those, instead do:**\n",
        "\n",
        "#@markdown 1. Click on the Folder icon (file explorer).\n",
        "\n",
        "#@markdown 2. Click upload and upload the audio file.\n",
        "\n",
        "from google.colab import files\n",
        "\n",
        "# upload\n",
        "uploaded = files.upload()"
      ],
      "metadata": {
        "cellView": "form",
        "id": "2nQlsNkziZ2g"
      },
      "execution_count": null,
      "outputs": []
    },
    {
      "cell_type": "code",
      "execution_count": null,
      "metadata": {
        "id": "Fq5YseXSi3PR",
        "cellView": "form"
      },
      "outputs": [],
      "source": [
        "# @title Run Audio Diarization\n",
        "import torch\n",
        "import os\n",
        "from pyannote.audio import Pipeline\n",
        "from google.colab import files\n",
        "#@markdown Name of your audio file.\n",
        "audio_filename = \"speaker-diarization-test.wav\" # @param {type:\"string\"}\n",
        "#@markdown Get your Hugging Face Read Token [here](https://huggingface.co/settings/tokens) and paste it below, be sure that you accept the conditions of https://huggingface.co/pyannote/segmentation-3.0 & https://huggingface.co/pyannote/speaker-diarization-3.1.\n",
        "hf_read_token = \"\" # @param {type:\"string\"}\n",
        "\n",
        "#@markdown **IF YOU LEAVE ALL THE PARAMETERS BELOW TO 0, IT WILL BE ON AUTO MODE, AUTOMATICALLY DETECTING THE SPEAKERS, ELSE USE THE ONES BELOW FOR MORE COSTUMIZATION & BETTER RESULTS**\n",
        "\n",
        "#@markdown Number of Speakers, **use it only if you know the number of speakers in advance, else leave it to 0 and use the parameters below**\n",
        "num_speakers = 0 # @param {type:\"slider\", min:0, max:10, step:1}\n",
        "\n",
        "#@markdown **Use the following parameters only if you don't know the number of speakers, you can set lower and/or upper bounds on the number of speakers, if instead you know it, leave the following parameters to 0 and use the one above**\n",
        "\n",
        "#@markdown Minimum Number of Speakers\n",
        "min_speakers = 0 # @param {type:\"slider\", min:0, max:10, step:1}\n",
        "#@markdown Maximum Number of Speakers\n",
        "max_speakers  = 0 # @param {type:\"slider\", min:0, max:10, step:1}\n",
        "\n",
        "\n",
        "try:\n",
        "    pipeline = Pipeline.from_pretrained(\n",
        "        \"pyannote/speaker-diarization-3.1\",\n",
        "        use_auth_token=f\"{hf_read_token}\")\n",
        "    device = torch.device(\"cuda\" if torch.cuda.is_available() else \"cpu\")\n",
        "    pipeline.to(device)\n",
        "except Exception as e:\n",
        "    print(f\"Error initializing pipeline: {e}\")\n",
        "    pipeline = None\n",
        "\n",
        "def save_audio(audio_filename):\n",
        "    if pipeline is None:\n",
        "        return \"Error: Pipeline not initialized\"\n",
        "    return audio_filename\n",
        "\n",
        "def diarize_audio(temp_file, num_speakers, min_speakers, max_speakers):\n",
        "    if pipeline is None:\n",
        "        return \"Error: Pipeline not initialized\"\n",
        "    try:\n",
        "        params = {}\n",
        "        if num_speakers > 0:\n",
        "            params[\"num_speakers\"] = num_speakers\n",
        "        if min_speakers > 0:\n",
        "            params[\"min_speakers\"] = min_speakers\n",
        "        if max_speakers > 0:\n",
        "            params[\"max_speakers\"] = max_speakers\n",
        "\n",
        "        diarization = pipeline(temp_file, **params)\n",
        "    except Exception as e:\n",
        "        return f\"Error processing audio: {e}\"\n",
        "\n",
        "    return str(diarization)\n",
        "\n",
        "def timestamp_to_seconds(timestamp):\n",
        "    try:\n",
        "        h, m, s = map(float, timestamp.split(':'))\n",
        "        return 3600 * h + 60 * m + s\n",
        "    except ValueError as e:\n",
        "        print(f\"Error converting timestamp to seconds: '{timestamp}'. Error: {e}\")\n",
        "        return None\n",
        "\n",
        "def generate_labels_from_diarization(diarization_output):\n",
        "    successful_lines = 0\n",
        "    labels_path = 'labels.txt'\n",
        "    try:\n",
        "        with open(labels_path, 'w') as outfile:\n",
        "            lines = diarization_output.strip().split('\\n')\n",
        "            for line in lines:\n",
        "                try:\n",
        "                    parts = line.strip()[1:-1].split(' --> ')\n",
        "                    start_time = parts[0].strip()\n",
        "                    end_time = parts[1].split(']')[0].strip()\n",
        "                    label = line.split()[-1].strip()\n",
        "                    start_seconds = timestamp_to_seconds(start_time)\n",
        "                    end_seconds = timestamp_to_seconds(end_time)\n",
        "                    outfile.write(f\"{start_seconds}\\t{end_seconds}\\t{label}\\n\")\n",
        "                    successful_lines += 1\n",
        "                except Exception as e:\n",
        "                    print(f\"Error processing line: '{line.strip()}'. Error: {e}\")\n",
        "        print(f\"Processed {successful_lines} lines successfully.\")\n",
        "        return labels_path if successful_lines > 0 else None\n",
        "    except Exception as e:\n",
        "        print(f\"Cannot write to file '{labels_path}'. Error: {e}\")\n",
        "        return None\n",
        "\n",
        "def process_audio(audio, num_speakers, min_speakers, max_speakers):\n",
        "    diarization_result = diarize_audio(save_audio(audio), num_speakers, min_speakers, max_speakers)\n",
        "    if diarization_result.startswith(\"Error\"):\n",
        "        return diarization_result, None\n",
        "    else:\n",
        "        label_file = generate_labels_from_diarization(diarization_result)\n",
        "        return diarization_result, label_file\n",
        "\n",
        "diarization_result, label_file = process_audio(audio_filename, num_speakers, min_speakers, max_speakers)\n",
        "print(diarization_result)"
      ]
    },
    {
      "cell_type": "code",
      "source": [
        "#@title Dowload DAW Labels Result\n",
        "\n",
        "from google.colab import files\n",
        "\n",
        "files.download('labels.txt')\n",
        "print(\"DAW Lable downloaded!\")"
      ],
      "metadata": {
        "cellView": "form",
        "id": "rLMc6Pl80BWW"
      },
      "execution_count": null,
      "outputs": []
    }
  ]
}